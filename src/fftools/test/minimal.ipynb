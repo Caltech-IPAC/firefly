{
 "cells": [
  {
   "cell_type": "code",
   "execution_count": 1,
   "metadata": {
    "collapsed": false,
    "scrolled": false
   },
   "outputs": [
    {
     "name": "stdout",
     "output_type": "stream",
     "text": [
      "websocket url:ws://localhost:8080/fftools/sticky/firefly/events?channelID=myChannel8\n",
      "url: http://localhost:8080/fftools/minimal.html?id=Loader&channelID=myChannel8\n"
     ]
    },
    {
     "data": {
      "text/html": [
       "\n",
       "        <iframe\n",
       "            width=\"1100\"\n",
       "            height=\"600\"\n",
       "            src=\"http://localhost:8080/fftools/minimal.html?id=Loader&channelID=myChannel8\"\n",
       "            frameborder=\"0\"\n",
       "            allowfullscreen\n",
       "        ></iframe>\n",
       "        "
      ],
      "text/plain": [
       "<IPython.lib.display.IFrame at 0x106c2d510>"
      ]
     },
     "execution_count": 1,
     "metadata": {},
     "output_type": "execute_result"
    }
   ],
   "source": [
    "import sys\n",
    "from IPython.display import IFrame\n",
    "\n",
    "# add to the path directory with the data\n",
    "sys.path.append('../python/display/')\n",
    "\n",
    "from FireflyClient import *\n",
    "\n",
    "host='localhost:8080'\n",
    "channel = 'myChannel8'\n",
    "\n",
    "\n",
    "fc= FireflyClient(host,channel)\n",
    "print 'url: %s' % fc.getFireflyUrl()\n",
    "\n",
    "def myCallback(event):\n",
    "    # print event\n",
    "    print \"Event Received: \"+json.dumps(event['data']);\n",
    "\n",
    "fc.addListener(myCallback)\n",
    "\n",
    "IFrame(fc.getFireflyUrl(), 1100, 600)"
   ]
  },
  {
   "cell_type": "code",
   "execution_count": 1,
   "metadata": {
    "collapsed": false
   },
   "outputs": [
    {
     "ename": "NameError",
     "evalue": "name 'fc' is not defined",
     "output_type": "error",
     "traceback": [
      "\u001b[0;31m---------------------------------------------------------------------------\u001b[0m",
      "\u001b[0;31mNameError\u001b[0m                                 Traceback (most recent call last)",
      "\u001b[0;32m<ipython-input-1-c4c326dcf640>\u001b[0m in \u001b[0;36m<module>\u001b[0;34m()\u001b[0m\n\u001b[1;32m      1\u001b[0m \u001b[0;31m# show FITS image\u001b[0m\u001b[0;34m\u001b[0m\u001b[0;34m\u001b[0m\u001b[0m\n\u001b[0;32m----> 2\u001b[0;31m \u001b[0mfile\u001b[0m\u001b[0;34m=\u001b[0m \u001b[0mfc\u001b[0m\u001b[0;34m.\u001b[0m\u001b[0muploadFile\u001b[0m\u001b[0;34m(\u001b[0m\u001b[0;34m'data/wise-m31-3a-1.fits'\u001b[0m\u001b[0;34m)\u001b[0m\u001b[0;34m\u001b[0m\u001b[0m\n\u001b[0m\u001b[1;32m      3\u001b[0m \u001b[0;31m# show uploaded FITS\u001b[0m\u001b[0;34m\u001b[0m\u001b[0;34m\u001b[0m\u001b[0m\n\u001b[1;32m      4\u001b[0m \u001b[0mstatus\u001b[0m\u001b[0;34m=\u001b[0m \u001b[0mfc\u001b[0m\u001b[0;34m.\u001b[0m\u001b[0mshowFits\u001b[0m\u001b[0;34m(\u001b[0m\u001b[0mfile\u001b[0m\u001b[0;34m,\u001b[0m \u001b[0mplotId\u001b[0m\u001b[0;34m=\u001b[0m\u001b[0;34m\"abcde\"\u001b[0m\u001b[0;34m)\u001b[0m\u001b[0;34m\u001b[0m\u001b[0m\n\u001b[1;32m      5\u001b[0m \u001b[0;32mprint\u001b[0m \u001b[0;34m'showFits success: %s'\u001b[0m \u001b[0;34m%\u001b[0m \u001b[0mstatus\u001b[0m\u001b[0;34m[\u001b[0m\u001b[0;34m'success'\u001b[0m\u001b[0;34m]\u001b[0m\u001b[0;34m\u001b[0m\u001b[0m\n",
      "\u001b[0;31mNameError\u001b[0m: name 'fc' is not defined"
     ]
    }
   ],
   "source": [
    "# show FITS image\n",
    "file= fc.uploadFile('data/wise-m31-3a-1.fits')\n",
    "# show uploaded FITS\n",
    "status= fc.showFits(file, plotId=\"abcde\")\n",
    "print 'showFits success: %s' % status['success']"
   ]
  },
  {
   "cell_type": "code",
   "execution_count": 15,
   "metadata": {
    "collapsed": false
   },
   "outputs": [
    {
     "name": "stdout",
     "output_type": "stream",
     "text": [
      "showTable success: True\n"
     ]
    }
   ],
   "source": [
    "# show table\n",
    "file= fc.uploadFile('data/sample.tbl')\n",
    "status = fc.showTable(file, 'My Table', 50)\n",
    "print 'showTable success: %s' % status['success']"
   ]
  },
  {
   "cell_type": "code",
   "execution_count": 4,
   "metadata": {
    "collapsed": false
   },
   "outputs": [
    {
     "name": "stdout",
     "output_type": "stream",
     "text": [
      "showTable success: True\n"
     ]
    }
   ],
   "source": [
    "# show catalog\n",
    "file= fc.uploadFile('data/2mass-m31-2412rows.tbl')\n",
    "status = fc.showTable(file, 'My 2MASS Catalog', 50)\n",
    "print 'showTable success: %s' % status['success']"
   ]
  },
  {
   "cell_type": "code",
   "execution_count": 5,
   "metadata": {
    "collapsed": false
   },
   "outputs": [
    {
     "name": "stdout",
     "output_type": "stream",
     "text": [
      "showXYPlot success: True\n"
     ]
    }
   ],
   "source": [
    "#  show plot\n",
    "status = fc.showXYPlot(fileOnServer=file, additionalParams={'xColExpr' : 'h_m-k_m', 'yCol' : 'j_m', 'plotTitle' : 'j_m vs h_m-k_m'})\n",
    "print 'showXYPlot success: %s' % status['success']"
   ]
  },
  {
   "cell_type": "code",
   "execution_count": null,
   "metadata": {
    "collapsed": true
   },
   "outputs": [],
   "source": []
  }
 ],
 "metadata": {
  "kernelspec": {
   "display_name": "Python 2",
   "language": "python",
   "name": "python2"
  },
  "language_info": {
   "codemirror_mode": {
    "name": "ipython",
    "version": 2
   },
   "file_extension": ".py",
   "mimetype": "text/x-python",
   "name": "python",
   "nbconvert_exporter": "python",
   "pygments_lexer": "ipython2",
   "version": "2.7.9"
  }
 },
 "nbformat": 4,
 "nbformat_minor": 0
}
