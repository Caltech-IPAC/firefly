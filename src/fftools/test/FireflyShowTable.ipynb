{
 "metadata": {
  "name": "",
  "signature": "sha256:726c4bfa5922471c64f0de39cf08276f22e05efeef43eea94e96bbe748e9f9f8"
 },
 "nbformat": 3,
 "nbformat_minor": 0,
 "worksheets": [
  {
   "cells": [
    {
     "cell_type": "code",
     "collapsed": false,
     "input": [
      "import sys\n",
      "from IPython.display import IFrame\n",
      "\n",
      "# add to the path directory with the data\n",
      "sys.path.append('../python/display/')\n",
      "\n",
      "from FireflyClient import *\n",
      "\n",
      "host='localhost:8080'\n",
      "channel = 'myChannel8'\n",
      "\n",
      "fc= FireflyClient(host,channel)\n",
      "\n",
      "IFrame(fc.getFireflyUrl(), 1000, 600)"
     ],
     "language": "python",
     "metadata": {},
     "outputs": [
      {
       "html": [
        "\n",
        "        <iframe\n",
        "            width=\"1000\"\n",
        "            height=600\"\n",
        "            src=\"http://localhost:8080/fftools/app.html?id=Loader&channelID=myChannel8\"\n",
        "            frameborder=\"0\"\n",
        "            allowfullscreen\n",
        "        ></iframe>\n",
        "        "
       ],
       "metadata": {},
       "output_type": "pyout",
       "prompt_number": 1,
       "text": [
        "<IPython.lib.display.IFrame at 0x1027af090>"
       ]
      }
     ],
     "prompt_number": 1
    },
    {
     "cell_type": "code",
     "collapsed": false,
     "input": [
      "import json\n",
      "import time\n",
      "\n",
      "# callback, where you can define what to do when an event is received\n",
      "#\n",
      "def myCallback(event):\n",
      "    # print event\n",
      "    print \"Event Received: \"+json.dumps(event['data']);\n",
      "\n",
      "fc.addListener(myCallback)\n",
      "\n",
      "# give the time to Firefly to initialize\n",
      "time.sleep(15)\n",
      "\n",
      "# upload FITS file\n",
      "file= fc.uploadFile('data/2mass-m31-2412rows.tbl')\n",
      "print 'uploadFile'\n",
      "\n",
      "# upload and show table\n",
      "status = fc.showTable(file, 'My Table', 50)\n",
      "\n",
      "print 'showTable success: %s' % status['success']"
     ],
     "language": "python",
     "metadata": {},
     "outputs": [
      {
       "output_type": "stream",
       "stream": "stdout",
       "text": [
        "uploadFile\n",
        "showTable success: True\n"
       ]
      },
      {
       "output_type": "stream",
       "stream": "stdout",
       "text": [
        "Event Received: \"${temp-files}/upload_5383743360777151818.tbl\"\n",
        "Event Received: \"TYPE==>>SEARCH<<BGSEP>>STATE==>>SUCCESS<<BGSEP>>ID==>>bid33251909509_localhost<<BGSEP>>SERVER_REQ==>>id=IpacTableFromSource&RequestClass=ServerRequest&source=${temp-files}/upload_5383743360777151818.tbl&pageSize=100<<BGSEP>>FILE_PATH==>>/hydra/workarea/fftools/temp_files/upload_5383743360777151818.tbl\"\n"
       ]
      }
     ],
     "prompt_number": 4
    },
    {
     "cell_type": "code",
     "collapsed": false,
     "input": [
      "import json\n",
      "import time\n",
      "\n",
      "# callback, where you can define what to do when an event is received\n",
      "#\n",
      "def myCallback(event):\n",
      "    # print event\n",
      "    print \"Event Received: \"+json.dumps(event['data']);\n",
      "\n",
      "fc.addListener(myCallback)\n",
      "\n",
      "# give the time to Firefly to initialize\n",
      "#time.sleep(15)\n",
      "\n",
      "# upload FITS file\n",
      "file= fc.uploadFile('data/2mass-m31-2412rows.tbl')\n",
      "print 'uploadFile'\n",
      "\n",
      "# upload and show table\n",
      "status = fc.showXYPlot(file)\n",
      "\n",
      "print 'showXYPlot success: %s' % status['success']"
     ],
     "language": "python",
     "metadata": {},
     "outputs": [
      {
       "output_type": "stream",
       "stream": "stdout",
       "text": [
        "uploadFile\n",
        "showXYPlot success: True"
       ]
      },
      {
       "output_type": "stream",
       "stream": "stdout",
       "text": [
        "\n"
       ]
      }
     ],
     "prompt_number": 2
    },
    {
     "cell_type": "code",
     "collapsed": false,
     "input": [
      "# remove callback listener after letting events to pass through\n",
      "time.sleep(15)\n",
      "fc.removeListener(myCallback)"
     ],
     "language": "python",
     "metadata": {},
     "outputs": [],
     "prompt_number": 6
    },
    {
     "cell_type": "code",
     "collapsed": false,
     "input": [],
     "language": "python",
     "metadata": {},
     "outputs": []
    }
   ],
   "metadata": {}
  }
 ]
}