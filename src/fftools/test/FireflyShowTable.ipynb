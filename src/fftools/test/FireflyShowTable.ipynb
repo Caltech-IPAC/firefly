{
 "metadata": {
  "name": "",
  "signature": "sha256:8e5723a511e72034cee6c30af17ccd7bb184e24a30f0d57412bda7e3831c5cbd"
 },
 "nbformat": 3,
 "nbformat_minor": 0,
 "worksheets": [
  {
   "cells": [
    {
     "cell_type": "code",
     "collapsed": true,
     "input": [
      "import sys\n",
      "from IPython.display import IFrame\n",
      "\n",
      "# add to the path directory with the data\n",
      "sys.path.append('../python/display/')\n",
      "\n",
      "from FireflyClient import *\n",
      "\n",
      "host='localhost:8080'\n",
      "channel = 'myChannel8'\n",
      "\n",
      "fc= FireflyClient(host,channel)\n",
      "\n",
      "IFrame(fc.getFireflyUrl(), 1050, 600)"
     ],
     "language": "python",
     "metadata": {},
     "outputs": []
    },
    {
     "cell_type": "code",
     "collapsed": true,
     "input": [
      "import json\n",
      "import time\n",
      "\n",
      "# callback, where you can define what to do when an event is received\n",
      "#\n",
      "def myCallback(event):\n",
      "    # print event\n",
      "    print \"Event Received: \"+json.dumps(event['data']);\n",
      "\n",
      "fc.addListener(myCallback)\n",
      "\n",
      "# give the time to Firefly to initialize\n",
      "#time.sleep(15)\n",
      "\n",
      "# upload FITS file\n",
      "file= fc.uploadFile('data/2mass-m31-2412rows.tbl')\n",
      "print 'uploadFile'\n",
      "\n",
      "# upload and show table\n",
      "status = fc.showTable(file, 'My Table', 50)\n",
      "\n",
      "print 'showTable success: %s' % status['success']\n",
      "\n",
      "#  show table\n",
      "status = fc.showXYPlot(fileOnServer=file, additionalParams={'xCol' : 'h_m', 'yCol' : 'j_m', 'plotTitle' : 'j_m vs h_m'})\n",
      "\n",
      "print 'showXYPlot success: %s' % status['success']\n"
     ],
     "language": "python",
     "metadata": {},
     "outputs": []
    },
    {
     "cell_type": "code",
     "collapsed": true,
     "input": [
      "# remove callback listener after letting events to pass through\n",
      "time.sleep(15)\n",
      "fc.removeListener(myCallback)"
     ],
     "language": "python",
     "metadata": {},
     "outputs": []
    },
    {
     "cell_type": "code",
     "collapsed": true,
     "input": [],
     "language": "python",
     "metadata": {},
     "outputs": []
    }
   ],
   "metadata": {}
  }
 ]
}