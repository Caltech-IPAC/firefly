{
 "metadata": {
  "name": "",
  "signature": "sha256:56acdd328f8c38ae3e7f7d18cae22bdb149450a996a35725eb4db52ec8000b08"
 },
 "nbformat": 3,
 "nbformat_minor": 0,
 "worksheets": [
  {
   "cells": [
    {
     "cell_type": "code",
     "collapsed": false,
     "input": [
      "import sys\n",
      "from IPython.display import IFrame\n",
      "\n",
      "# add to the path directory with the data\n",
      "sys.path.append('../python/display/')\n",
      "\n",
      "from FireflyClient import *\n",
      "\n",
      "host='localhost:8080'\n",
      "channel = 'myChannel8'\n",
      "\n",
      "fc= FireflyClient(host,channel)\n",
      "\n",
      "IFrame(fc.getFireflyUrl(), 1000, 600)"
     ],
     "language": "python",
     "metadata": {},
     "outputs": [
      {
       "output_type": "stream",
       "stream": "stdout",
       "text": [
        "websocket url:ws://localhost:8080/fftools/sticky/firefly/events\n",
        "Connection established: 33_myChannel8\n"
       ]
      },
      {
       "html": [
        "\n",
        "        <iframe\n",
        "            width=\"1000\"\n",
        "            height=600\"\n",
        "            src=\"http://localhost:8080/fftools/app.html?id=Loader&channelID=myChannel8\"\n",
        "            frameborder=\"0\"\n",
        "            allowfullscreen\n",
        "        ></iframe>\n",
        "        "
       ],
       "metadata": {},
       "output_type": "pyout",
       "prompt_number": 8,
       "text": [
        "<IPython.lib.display.IFrame at 0x103f3fa50>"
       ]
      }
     ],
     "prompt_number": 8
    },
    {
     "cell_type": "code",
     "collapsed": false,
     "input": [
      "import json\n",
      "import time\n",
      "\n",
      "# callback, where you can define what to do when an event is received\n",
      "#\n",
      "def myCallback(event):\n",
      "    # print event\n",
      "    print \"Event Received: \"+json.dumps(event['data']);\n",
      "\n",
      "fc.addListener(myCallback)\n",
      "\n",
      "# give the time to Firefly to initialize\n",
      "time.sleep(15)\n",
      "\n",
      "# upload FITS file\n",
      "file= fc.uploadFile('data/2mass-m31-2412rows.tbl')\n",
      "print 'uploadFile'\n",
      "\n",
      "# upload and show table\n",
      "status = fc.showTable(file, 'My Table', 50)\n",
      "\n",
      "print 'showTable success: %s' % status['success']"
     ],
     "language": "python",
     "metadata": {},
     "outputs": [
      {
       "output_type": "stream",
       "stream": "stdout",
       "text": [
        "uploadFile\n",
        "[{\"success\" :  \"true\",   \"file\" :  \"\"   }]\n",
        "showTable success: true\n"
       ]
      }
     ],
     "prompt_number": 9
    },
    {
     "cell_type": "code",
     "collapsed": false,
     "input": [
      "# remove callback listener after letting events to pass through\n",
      "time.sleep(15)\n",
      "fc.removeListener(myCallback)"
     ],
     "language": "python",
     "metadata": {},
     "outputs": [
      {
       "output_type": "stream",
       "stream": "stdout",
       "text": [
        "Event Received: \"TYPE==>>SEARCH<<BGSEP>>STATE==>>SUCCESS<<BGSEP>>ID==>>bid32766850682_localhost<<BGSEP>>SERVER_REQ==>>id=IpacTableFromSource&RequestClass=ServerRequest&source=${temp-files}/upload_1289510711417349431.tbl&pageSize=100<<BGSEP>>FILE_PATH==>>/hydra/workarea/fftools/temp_files/upload_1289510711417349431.tbl\"\n",
        "Event Received: \"An event type\"\n"
       ]
      }
     ],
     "prompt_number": 10
    },
    {
     "cell_type": "code",
     "collapsed": false,
     "input": [],
     "language": "python",
     "metadata": {},
     "outputs": [],
     "prompt_number": 10
    }
   ],
   "metadata": {}
  }
 ]
}