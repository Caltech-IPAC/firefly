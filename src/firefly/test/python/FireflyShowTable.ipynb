{
 "cells": [
  {
   "cell_type": "code",
   "execution_count": null,
   "metadata": {
    "collapsed": false
   },
   "outputs": [],
   "source": [
    "import sys\n",
    "from FireflyClient import FireflyClient\n",
    "import json\n",
    "import time\n",
    "from IPython.display import IFrame\n",
    "\n",
    "# add to the path directory with the data\n",
    "sys.path.append('../../python/display/')\n",
    "\n",
    "def myCallback(event):\n",
    "    # print event\n",
    "    print \"Event Received: \"+json.dumps(event['data']);\n",
    "\n",
    "host='localhost:8080'    \n",
    "channel = 'myChannel8'\n",
    "\n",
    "fc= FireflyClient(host,channel)\n",
    "fc.add_listener(myCallback)"
   ]
  },
  {
   "cell_type": "code",
   "execution_count": null,
   "metadata": {
    "collapsed": false
   },
   "outputs": [],
   "source": [
    "IFrame(fc.get_firefly_url(), 1050, 600)"
   ]
  },
  {
   "cell_type": "code",
   "execution_count": null,
   "metadata": {
    "collapsed": false
   },
   "outputs": [],
   "source": [
    "\n",
    "# give the time to Firefly to initialize\n",
    "#time.sleep(15)\n",
    "\n",
    "# upload FITS file\n",
    "file= fc.upload_file('./data/2mass-m31-2412rows.tbl')\n",
    "print 'uploadFile'\n",
    "\n",
    "#  show plot\n",
    "#status = fc.showXYPlot(fileOnServer=file, additionalParams={'xColExpr' : 'h_m-k_m', 'yCol' : 'j_m', 'plotTitle' : 'j_m vs h_m-k_m'})\n",
    "\n",
    "#print 'showXYPlot success: %s' % status['success']\n",
    "\n",
    "# show table\n",
    "status = fc.show_table(file, 'tablemass', 'My Table', 50)\n",
    "\n",
    "print 'showTable success: %s' % status['success']\n"
   ]
  },
  {
   "cell_type": "code",
   "execution_count": null,
   "metadata": {
    "collapsed": true
   },
   "outputs": [],
   "source": [
    "# remove callback listener after letting events to pass through\n",
    "time.sleep(15)\n",
    "fc.remove_listener(myCallback)"
   ]
  },
  {
   "cell_type": "code",
   "execution_count": null,
   "metadata": {
    "collapsed": true
   },
   "outputs": [],
   "source": []
  }
 ],
 "metadata": {
  "anaconda-cloud": {},
  "kernelspec": {
   "display_name": "Python [ana27]",
   "language": "python",
   "name": "Python [ana27]"
  },
  "language_info": {
   "codemirror_mode": {
    "name": "ipython",
    "version": 2
   },
   "file_extension": ".py",
   "mimetype": "text/x-python",
   "name": "python",
   "nbconvert_exporter": "python",
   "pygments_lexer": "ipython2",
   "version": "2.7.12"
  }
 },
 "nbformat": 4,
 "nbformat_minor": 0
}
