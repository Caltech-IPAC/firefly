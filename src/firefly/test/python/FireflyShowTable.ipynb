{
 "cells": [
  {
   "cell_type": "code",
   "execution_count": 1,
   "metadata": {
    "collapsed": false
   },
   "outputs": [
    {
     "data": {
      "text/html": [
       "\n",
       "        <iframe\n",
       "            width=\"1050\"\n",
       "            height=\"600\"\n",
       "            src=\"http://localhost:8080/fftools/minimal.html?channelID=myChannel8\"\n",
       "            frameborder=\"0\"\n",
       "            allowfullscreen\n",
       "        ></iframe>\n",
       "        "
      ],
      "text/plain": [
       "<IPython.lib.display.IFrame at 0x105dd49d0>"
      ]
     },
     "execution_count": 1,
     "metadata": {},
     "output_type": "execute_result"
    }
   ],
   "source": [
    "import sys\n",
    "from IPython.display import IFrame\n",
    "\n",
    "# add to the path directory with the data\n",
    "sys.path.append('../python/display/')\n",
    "\n",
    "from FireflyClient import *\n",
    "\n",
    "host='localhost:8080'\n",
    "channel = 'myChannel8'\n",
    "\n",
    "fc= FireflyClient(host,channel)\n",
    "\n",
    "IFrame(fc.getFireflyUrl(), 1050, 600)"
   ]
  },
  {
   "cell_type": "code",
   "execution_count": 2,
   "metadata": {
    "collapsed": false
   },
   "outputs": [
    {
     "name": "stdout",
     "output_type": "stream",
     "text": [
      "uploadFile\n",
      "showXYPlot success: True\n",
      "showTable success: True\n",
      "Event Received: \"TYPE==>>SEARCH<<BGSEP>>STATE==>>SUCCESS<<BGSEP>>ID==>>bid37428172164_facade<<BGSEP>>SERVER_REQ==>>id=IpacTableFromSource&RequestClass=ServerRequest&source=${temp-files}/upload_2137967428470752745.tbl&pageSize=100<<BGSEP>>FILE_PATH==>>/hydra/workarea/fftools/temp_files/upload_2137967428470752745.tbl\"\n",
      "Event Received: \"TYPE==>>SEARCH<<BGSEP>>STATE==>>SUCCESS<<BGSEP>>ID==>>bid37428172175_facade<<BGSEP>>SERVER_REQ==>>id=IpacTableFromSource&RequestClass=ServerRequest&source=${temp-files}/upload_2137967428470752745.tbl&pageSize=100<<BGSEP>>FILE_PATH==>>/hydra/workarea/fftools/temp_files/upload_2137967428470752745.tbl\"\n",
      "Event Received: \"TYPE==>>SEARCH<<BGSEP>>STATE==>>SUCCESS<<BGSEP>>ID==>>bid37428172268_facade<<BGSEP>>SERVER_REQ==>>id=IpacTableFromSource&RequestClass=ServerRequest&source=${temp-files}/upload_2137967428470752745.tbl&pageSize=100<<BGSEP>>FILE_PATH==>>/hydra/workarea/fftools/temp_files/upload_2137967428470752745.tbl\"\n"
     ]
    }
   ],
   "source": [
    "import json\n",
    "import time\n",
    "\n",
    "# callback, where you can define what to do when an event is received\n",
    "#\n",
    "def myCallback(event):\n",
    "    # print event\n",
    "    print \"Event Received: \"+json.dumps(event['data']);\n",
    "\n",
    "fc.addListener(myCallback)\n",
    "\n",
    "# give the time to Firefly to initialize\n",
    "#time.sleep(15)\n",
    "\n",
    "# upload FITS file\n",
    "file= fc.uploadFile('data/2mass-m31-2412rows.tbl')\n",
    "print 'uploadFile'\n",
    "\n",
    "#  show plot\n",
    "status = fc.showXYPlot(fileOnServer=file, additionalParams={'xColExpr' : 'h_m-k_m', 'yCol' : 'j_m', 'plotTitle' : 'j_m vs h_m-k_m'})\n",
    "\n",
    "print 'showXYPlot success: %s' % status['success']\n",
    "\n",
    "# show table\n",
    "status = fc.showTable(file, 'My Table', 50)\n",
    "\n",
    "print 'showTable success: %s' % status['success']\n"
   ]
  },
  {
   "cell_type": "code",
   "execution_count": null,
   "metadata": {
    "collapsed": true
   },
   "outputs": [],
   "source": [
    "# remove callback listener after letting events to pass through\n",
    "time.sleep(15)\n",
    "fc.removeListener(myCallback)"
   ]
  },
  {
   "cell_type": "code",
   "execution_count": null,
   "metadata": {
    "collapsed": true
   },
   "outputs": [],
   "source": []
  }
 ],
 "metadata": {
  "kernelspec": {
   "display_name": "Python 2",
   "language": "python",
   "name": "python2"
  },
  "language_info": {
   "codemirror_mode": {
    "name": "ipython",
    "version": 2
   },
   "file_extension": ".py",
   "mimetype": "text/x-python",
   "name": "python",
   "nbconvert_exporter": "python",
   "pygments_lexer": "ipython2",
   "version": "2.7.10"
  }
 },
 "nbformat": 4,
 "nbformat_minor": 0
}
