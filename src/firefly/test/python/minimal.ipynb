{
 "cells": [
  {
   "cell_type": "code",
   "execution_count": null,
   "metadata": {
    "collapsed": false
   },
   "outputs": [],
   "source": [
    "import sys\n",
    "import json\n",
    "from IPython.display import IFrame\n",
    "\n",
    "# add to the path directory with the data\n",
    "sys.path.append('../../python/display/')\n",
    "\n",
    "from FireflyClient import FireflyClient\n",
    "\n",
    "host='localhost:8080'\n",
    "channel = 'myChannel8'\n",
    "\n",
    "fc= FireflyClient(host,channel)\n",
    "print 'url: %s' % fc.get_firefly_url()\n",
    "\n",
    "def myCallback(event):\n",
    "    # print event\n",
    "    print \"Event Received: \"+json.dumps(event['data']);\n",
    "\n",
    "fc.add_listener(myCallback)\n",
    "\n",
    "IFrame(fc.get_firefly_url(), 1100, 600)"
   ]
  },
  {
   "cell_type": "code",
   "execution_count": null,
   "metadata": {
    "collapsed": false
   },
   "outputs": [],
   "source": [
    "# show FITS image\n",
    "file= fc.upload_file('./data/wise-m31-3a-1.fits')\n",
    "# show uploaded FITS\n",
    "status= fc.show_fits(file, plot_id=\"abcde\")\n",
    "print 'showFits success: %s' % status['success']"
   ]
  },
  {
   "cell_type": "code",
   "execution_count": null,
   "metadata": {
    "collapsed": false
   },
   "outputs": [],
   "source": [
    "regions= []\n",
    "c = 50\n",
    "for x in range(0, 10):\n",
    "    for y in range(0,10):\n",
    "        regions.append('box '+str((c*x))+' '+str((c+c*y))+' 50 50 0 # color=blue');\n",
    "\n",
    "fc.add_region_data(regions, 'regionlist')      "
   ]
  },
  {
   "cell_type": "code",
   "execution_count": null,
   "metadata": {
    "collapsed": false
   },
   "outputs": [],
   "source": [
    "# show table\n",
    "file= fc.upload_file('./data/sample.tbl')\n",
    "status = fc.show_table(file, 'tablesample', 'My Table', 50)\n",
    "print 'showTable success: %s' % status['success']"
   ]
  },
  {
   "cell_type": "code",
   "execution_count": null,
   "metadata": {
    "collapsed": false
   },
   "outputs": [],
   "source": [
    "# show catalog\n",
    "file= fc.upload_file('data/2mass-m31-2412rows.tbl')\n",
    "status = fc.show_table(file, 'tablemass', 'My 2MASS Catalog', 50)\n",
    "print 'showTable success: %s' % status['success']"
   ]
  },
  {
   "cell_type": "code",
   "execution_count": null,
   "metadata": {
    "collapsed": false
   },
   "outputs": [],
   "source": [
    "#  show plot\n",
    "#status = fc.showXYPlot(fileOnServer=file, additionalParams={'xColExpr' : 'h_m-k_m', 'yCol' : 'j_m', 'plotTitle' : 'j_m vs h_m-k_m'})\n",
    "#print 'showXYPlot success: %s' % status['success']"
   ]
  },
  {
   "cell_type": "code",
   "execution_count": null,
   "metadata": {
    "collapsed": true
   },
   "outputs": [],
   "source": []
  }
 ],
 "metadata": {
  "anaconda-cloud": {},
  "kernelspec": {
   "display_name": "Python [ana27]",
   "language": "python",
   "name": "Python [ana27]"
  },
  "language_info": {
   "codemirror_mode": {
    "name": "ipython",
    "version": 2
   },
   "file_extension": ".py",
   "mimetype": "text/x-python",
   "name": "python",
   "nbconvert_exporter": "python",
   "pygments_lexer": "ipython2",
   "version": "2.7.12"
  }
 },
 "nbformat": 4,
 "nbformat_minor": 0
}
