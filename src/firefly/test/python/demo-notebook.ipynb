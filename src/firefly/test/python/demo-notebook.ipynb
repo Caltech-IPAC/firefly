{
 "cells": [
  {
   "cell_type": "code",
   "execution_count": null,
   "metadata": {
    "collapsed": false
   },
   "outputs": [],
   "source": [
    "import os\n",
    "\n",
    "from FireflyClient import *\n",
    "\n",
    "host='localhost:8080'\n",
    "\n",
    "def myCallback(event):\n",
    "    print \"Event Received: \"+json.dumps(event['data']);\n",
    "    if 'type' in event['data']:\n",
    "        if event['data']['type']=='AREA_SELECT':\n",
    "            print '*************area select'\n",
    "            pParams= { 'URL' : 'http://web.ipac.caltech.edu/staff/roby/demo/wise-m51-band2.fits','ColorTable' : '9'}\n",
    "            status= fc.showFits(fileOnServer=None, plotId='p4', additionalParams=pParams)         \n",
    "   \n",
    "        \n",
    "\n",
    "print 'HELLO HELLO HELLO'\n",
    "fc= FireflyClient(host,'tt')\n",
    "fc.addListener(myCallback)\n",
    "#raw_input(\"add fits.   Press Enter to continue...\")"
   ]
  },
  {
   "cell_type": "code",
   "execution_count": null,
   "metadata": {
    "collapsed": false
   },
   "outputs": [],
   "source": [
    "fc.launchBrowser()"
   ]
  },
  {
   "cell_type": "code",
   "execution_count": null,
   "metadata": {
    "collapsed": false
   },
   "outputs": [],
   "source": [
    "#file= fc.uploadFile('./data/c.fits')\n",
    "file= fc.uploadFile('/hydra/cm/firefly/src/firefly/test/python/data/wise-1b-1.fits')\n",
    "#file= fc.uploadFile('../data/wise-m31-3a-1.fits')\n",
    "#rv= fc.createRangeValuesStandard(\"LogLog\", \"Percent\",9,98)\n",
    "#rv= fc.createRangeValuesZScale(\"Log\",80, 500,44)\n",
    "#rv= fc.createRangeValuesZScale(\"Log\")\n",
    "rv= fc.createRangeValuesStandard(\"LogLog\")\n",
    "#params= {'RangeValues':rv, 'Title':\"Hello\", \"ZoomType\": \"FORCE_STANDARD\",\"InitZoomLevel\": \"2\"}\n",
    "#params= {'RangeValues':rv, 'Title':\"Hello\"}\n",
    "#params= {'Title':\"Hello\", \"MultiImageIdx\": \"0\" }\n",
    "params= { 'Title':\"Hello\"}\n",
    "\n",
    "#status= fc.showFits(file, 'p1')\n",
    "status= fc.showFits(file,'p1',params)\n",
    "#status= fc.addExtension('AREA_SELECT','MyOp2','p1','MyOpExtension2')"
   ]
  },
  {
   "cell_type": "code",
   "execution_count": null,
   "metadata": {
    "collapsed": false
   },
   "outputs": [],
   "source": [
    "fc.addExtension(\"AREA_SELECT\", 'p1', 'crop2', 'second crop', imageSrc='/hydra/cm/firefly/src/firefly/html/images/icons-2014/16x16_Filter.png')\n",
    "\n",
    "#fc.addExtension(\"LINE_SELECT\", 'p1', 'crop2', 'second crop', imageSrc='/hydra/cm/firefly/src/firefly/html/images/icons-2014/16x16_Filter.png')\n",
    "\n",
    "#fc.addExtension(\"POINT\", 'p1', 'crop2', 'second crop', imageSrc='/hydra/cm/firefly/src/firefly/html/images/icons-2014/16x16_Filter.png')"
   ]
  },
  {
   "cell_type": "code",
   "execution_count": null,
   "metadata": {
    "collapsed": false
   },
   "outputs": [],
   "source": [
    "fc.zoom('p1', 5)\n"
   ]
  },
  {
   "cell_type": "code",
   "execution_count": null,
   "metadata": {
    "collapsed": false
   },
   "outputs": [],
   "source": [
    "fc.pan('p1', 100, 100)\n"
   ]
  },
  {
   "cell_type": "code",
   "execution_count": null,
   "metadata": {
    "collapsed": false
   },
   "outputs": [],
   "source": [
    "#fc.addMask(\"m1\",5,1,\"#FF00FF\",'p1', \"maskStuff\")"
   ]
  },
  {
   "cell_type": "code",
   "execution_count": null,
   "metadata": {
    "collapsed": false
   },
   "outputs": [],
   "source": [
    "#fc.removeMask(\"m1\")"
   ]
  },
  {
   "cell_type": "code",
   "execution_count": null,
   "metadata": {
    "collapsed": false
   },
   "outputs": [],
   "source": [
    "pParams= { 'URL' : 'http://web.ipac.caltech.edu/staff/roby/demo/wise-m51-band4.fits','ColorTable' : '9', 'title': 'hello'}\n",
    "status= fc.showFits(fileOnServer=None, plotId='p2', additionalParams=pParams)"
   ]
  },
  {
   "cell_type": "code",
   "execution_count": null,
   "metadata": {
    "collapsed": false
   },
   "outputs": [],
   "source": [
    "fc.zoom('p2', .5)"
   ]
  },
  {
   "cell_type": "code",
   "execution_count": null,
   "metadata": {
    "collapsed": false
   },
   "outputs": [],
   "source": [
    "fc.zoom('p2', 2.0)"
   ]
  },
  {
   "cell_type": "code",
   "execution_count": null,
   "metadata": {
    "collapsed": false
   },
   "outputs": [],
   "source": [
    "file= fc.uploadFile('./data/c.fits')\n",
    "params= { 'Title':\"Hello updateTextData\"}\n",
    "\n",
    "status= fc.showFits(file,'p3',params)"
   ]
  },
  {
   "cell_type": "code",
   "execution_count": null,
   "metadata": {
    "collapsed": false
   },
   "outputs": [],
   "source": [
    "inFile= os.getcwd() + '/data/c.reg'\n",
    "f= open(inFile, 'r+')\n",
    "contents= f.read()\n",
    "uf= fc.uploadTextData(contents)\n",
    "print uf\n",
    "fc.overlayRegion(fileOnServer=uf, title='test c region', regionLayerId=\"regOnP3\", plotId=['p3'])\n"
   ]
  },
  {
   "cell_type": "code",
   "execution_count": null,
   "metadata": {
    "collapsed": false
   },
   "outputs": [],
   "source": [
    "file = fc.uploadFile('./data/test5.reg')\n",
    "print file\n",
    "#fc.overlayRegion(file, 'test5 region', 'regOnP1', ['p1'])\n",
    "fc.overlayRegion(fileOnServer=file, title='test5 region', regionLayerId='regOnP1')\n"
   ]
  },
  {
   "cell_type": "code",
   "execution_count": null,
   "metadata": {
    "collapsed": false,
    "scrolled": true
   },
   "outputs": [],
   "source": [
    "reg= ['point 211 22 # color=pink  text={region 1/7} point=cross 9', \n",
    "      'point 30 280 # color=red text={region 2/7} point=diamond 15 select=1',\n",
    "      'point 100 180 # color=green text={region 3/7} point=cross 10 select=1',\n",
    "      'point 400 350 # color=purple text={region 4/7} point=x 10 select=1',\n",
    "      'circle 51.6d 31.5d 30i # color=red text={region 5/7}',\n",
    "      'box 51.7d 31.5d 30\" 60\" 0 # color=red text={region 6/7}',\n",
    "      'box 300 200 30 60 0 # color=pink text={region 7/7}'\n",
    "      ]\n",
    "fc.overlayRegion(None, reg, 'My Region Data', 'regOnP2', ['p2'])"
   ]
  },
  {
   "cell_type": "code",
   "execution_count": null,
   "metadata": {
    "collapsed": false
   },
   "outputs": [],
   "source": [
    "fc.deleteRegion('regOnP2', 'p2')"
   ]
  },
  {
   "cell_type": "code",
   "execution_count": null,
   "metadata": {
    "collapsed": false
   },
   "outputs": [],
   "source": [
    "regPoly= ['PHYSICAL;polygon 425 225 480 415 450 450 #color=cyan']\n",
    "regLine= ['line 400 130 560 230',\n",
    "          'line 560 230 200 370']\n",
    "fc.overlayRegion(None, regLine, 'My Region Data', 'regOnP2More', 'p2')"
   ]
  },
  {
   "cell_type": "code",
   "execution_count": null,
   "metadata": {
    "collapsed": false
   },
   "outputs": [],
   "source": [
    "fc.addRegionData(regPoly, 'regOnP2More')"
   ]
  },
  {
   "cell_type": "code",
   "execution_count": null,
   "metadata": {
    "collapsed": false
   },
   "outputs": [],
   "source": [
    "delReg= 'physical;line 400 130 560 230'\n",
    "fc.removeRegionData(delReg, 'regOnP2More')"
   ]
  },
  {
   "cell_type": "code",
   "execution_count": null,
   "metadata": {
    "collapsed": false
   },
   "outputs": [],
   "source": [
    "#fc.deleteRegion('regOnP1', 'p1')\n",
    "fc.deleteRegion('regOnP1')"
   ]
  },
  {
   "cell_type": "code",
   "execution_count": null,
   "metadata": {
    "collapsed": false
   },
   "outputs": [],
   "source": [
    "fc.deleteRegion('regOnP2More', 'p2')"
   ]
  },
  {
   "cell_type": "code",
   "execution_count": null,
   "metadata": {
    "collapsed": false
   },
   "outputs": [],
   "source": [
    "fc.deleteRegion('regOnP3')"
   ]
  },
  {
   "cell_type": "code",
   "execution_count": null,
   "metadata": {
    "collapsed": false
   },
   "outputs": [],
   "source": [
    "fc.zoom(['p1', 'p2', 'p3'])"
   ]
  },
  {
   "cell_type": "code",
   "execution_count": null,
   "metadata": {
    "collapsed": false
   },
   "outputs": [],
   "source": [
    "rv = fc.createRangeValuesZScale('Log')\n",
    "fc.stretch('p2', rv)"
   ]
  },
  {
   "cell_type": "code",
   "execution_count": null,
   "metadata": {
    "collapsed": false
   },
   "outputs": [],
   "source": [
    "rv= fc.createRangeValuesStandard('Log', 'percent',1,96)\n",
    "fc.stretch('p1',rv)"
   ]
  },
  {
   "cell_type": "code",
   "execution_count": null,
   "metadata": {
    "collapsed": false
   },
   "outputs": [],
   "source": [
    "ft = fc.uploadFile('./data/sample.tbl')\n",
    "print ft\n",
    "fc.showTable(ft)"
   ]
  },
  {
   "cell_type": "code",
   "execution_count": null,
   "metadata": {
    "collapsed": false
   },
   "outputs": [],
   "source": [
    "for i in range(len(reg)):\n",
    "    print \"region=%s\" % reg[i]"
   ]
  },
  {
   "cell_type": "code",
   "execution_count": null,
   "metadata": {
    "collapsed": true
   },
   "outputs": [],
   "source": [
    "import os\n",
    "imageFileName = os.path.join(os.path.expanduser(\"~roby\"), \"LSST\", \"afw-LSST\", \"tests\", \"data\", \"HSC-0908120-056-small.fits\")"
   ]
  },
  {
   "cell_type": "code",
   "execution_count": null,
   "metadata": {
    "collapsed": false
   },
   "outputs": [],
   "source": [
    "print imageFileName"
   ]
  },
  {
   "cell_type": "code",
   "execution_count": null,
   "metadata": {
    "collapsed": true
   },
   "outputs": [],
   "source": []
  }
 ],
 "metadata": {
  "anaconda-cloud": {},
  "kernelspec": {
   "display_name": "Python [Root]",
   "language": "python",
   "name": "Python [Root]"
  },
  "language_info": {
   "codemirror_mode": {
    "name": "ipython",
    "version": 2
   },
   "file_extension": ".py",
   "mimetype": "text/x-python",
   "name": "python",
   "nbconvert_exporter": "python",
   "pygments_lexer": "ipython2",
   "version": "2.7.12"
  }
 },
 "nbformat": 4,
 "nbformat_minor": 0
}
