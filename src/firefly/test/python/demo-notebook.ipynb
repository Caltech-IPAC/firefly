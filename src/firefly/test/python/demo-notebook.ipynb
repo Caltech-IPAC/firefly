{
 "cells": [
  {
   "cell_type": "code",
   "execution_count": 1,
   "metadata": {
    "collapsed": false
   },
   "outputs": [
    {
     "name": "stdout",
     "output_type": "stream",
     "text": [
      "version: 2.7.11 |Anaconda 4.0.0 (x86_64)| (default, Dec  6 2015, 18:57:58) \n",
      "[GCC 4.2.1 (Apple Inc. build 5577)]\n",
      "HELLO HELLO HELLO\n",
      "Event Received: {\"type\": \"app_data.wsConnUpdated\", \"payload\": {\"tt\": [\"0\"]}}\n"
     ]
    }
   ],
   "source": [
    "from __future__ import print_function\n",
    "from builtins import range\n",
    "import sys\n",
    "\n",
    "from firefly_client import FireflyClient\n",
    "import json\n",
    "\n",
    "host='localhost:8080'\n",
    "\n",
    "def myCallback(event):\n",
    "    print(\"Event Received: \"+json.dumps(event['data']))\n",
    "    if 'type' in event['data']:\n",
    "        if event['data']['type']=='POINT':\n",
    "            print('*************area select')\n",
    "            #pParams= { 'URL' : 'http://web.ipac.caltech.edu/staff/roby/demo/wise-m51-band2.fits','ColorTable' : '9'}\n",
    "            status= fc.show_fits(fileOnServer=None, plotId='p4', \n",
    "                                URL='http://web.ipac.caltech.edu/staff/roby/demo/wise-m51-band2.fits',\n",
    "                                ColorTable='9')         \n",
    "   \n",
    "        \n",
    "\n",
    "print ('version: ' + str(sys.version))\n",
    "print('HELLO HELLO HELLO')\n",
    "fc= FireflyClient(host,'tt')\n",
    "fc.add_listener(myCallback)\n",
    "#raw_input(\"add fits.   Press Enter to continue...\")"
   ]
  },
  {
   "cell_type": "code",
   "execution_count": 2,
   "metadata": {
    "collapsed": false
   },
   "outputs": [
    {
     "name": "stdout",
     "output_type": "stream",
     "text": [
      "Event Received: {\"type\": \"app_data.wsConnUpdated\", \"payload\": {\"tt\": [\"0\", \"1\"]}}\n"
     ]
    },
    {
     "data": {
      "text/plain": [
       "'tt'"
      ]
     },
     "execution_count": 2,
     "metadata": {},
     "output_type": "execute_result"
    }
   ],
   "source": [
    "fc.launch_browser()"
   ]
  },
  {
   "cell_type": "code",
   "execution_count": null,
   "metadata": {
    "collapsed": false
   },
   "outputs": [],
   "source": [
    "#file= fc.upload_file('./data/CORR-0903334-016.fits')\n",
    "#status = fc.show_fits(file, 'pmask', MultiImageIdx='0')                   \n",
    "#status = fc.add_mask(5, 1, 'pmask', 'maskid1')\n",
    "#status = fc.add_mask(10, 1, 'pmask', 'maskid2')"
   ]
  },
  {
   "cell_type": "code",
   "execution_count": null,
   "metadata": {
    "collapsed": false
   },
   "outputs": [],
   "source": [
    "#status = fc.remove_mask('pmask', 'maskid1')"
   ]
  },
  {
   "cell_type": "code",
   "execution_count": 3,
   "metadata": {
    "collapsed": false
   },
   "outputs": [
    {
     "name": "stdout",
     "output_type": "stream",
     "text": [
      "Event Received: {\"type\": \"ImagePlotCntlr.PlotImage\", \"payload\": {\"wpRequest\": {\"plotId\": \"p1\", \"plotGroupId\": \"groupFromPython\", \"GroupLocked\": false, \"file\": \"${cache-dir}/upload_4005543556766116604.fits\", \"Title\": \"Hello\"}, \"viewerId\": \"DEFAULT_FITS_VIEWER_ID\", \"useContextModifications\": true}}\n"
     ]
    }
   ],
   "source": [
    "\n",
    "file= fc.upload_file('./data/wise-1b-1.fits')\n",
    "\n",
    "status= fc.show_fits(file,'p1',Title=\"Hello\")"
   ]
  },
  {
   "cell_type": "code",
   "execution_count": 5,
   "metadata": {
    "collapsed": false,
    "scrolled": true
   },
   "outputs": [
    {
     "name": "stdout",
     "output_type": "stream",
     "text": [
      "Event Received: {\"type\": \"ExternalAccessCntlr/extensionAdd\", \"payload\": {\"extension\": {\"title\": \"crop\", \"imageUrl\": null, \"toolTip\": \"second crop\", \"plotId\": null, \"id\": \"abc\", \"extType\": \"POINT\"}}}\n"
     ]
    },
    {
     "data": {
      "text/plain": [
       "{u'success': True}"
      ]
     },
     "execution_count": 5,
     "metadata": {},
     "output_type": "execute_result"
    },
    {
     "name": "stdout",
     "output_type": "stream",
     "text": [
      "Event Received: {\"wpt\": \"6.992208730035259;39.43483936262465;EQ_J2000\", \"plotState\": {\"multiImage\": \"USE_ALL\", \"ops\": [], \"rotaNorthType\": \"EQ_J2000\", \"flippedY\": false, \"rotationAngle\": null, \"rotationType\": \"UNROTATE\", \"zoomLevel\": 0.0959707, \"JSON\": true, \"newPlot\": false, \"bandStateAry\": [{\"originalImageIdx\": 0, \"originalFitsFileStr\": \"${cache-dir}/URL--irsa.ipac.caltech.edu-251880181-ibedatawiseallsky4band_p3am_cdd0000770077p393_ab410077p393_ab41-w1-int-3.fits\", \"imageIdx\": 0, \"rangeValuesSerialize\": \"92,-2.0,92,10.0,0.1,2.0,44,25,600,120\", \"multiImageFile\": false, \"fitsHeader\": {\"blankValue\": \"NaN\", \"naxis1\": \"4095\", \"bzero\": \"0.0\", \"naxis3\": \"1\", \"naxis2\": \"4095\", \"naxis\": \"2\", \"dataOffset\": \"5760\", \"bitpix\": \"-32\", \"bscale\": \"1.0\", \"cdelt2\": \"3.819444391411E-4\", \"planeNumber\": \"0\"}, \"cubePlaneNumber\": 0, \"uploadFileNameStr\": null, \"plotRequestSerialize\": \"id=ibe_file_retrieve&RequestClass=ServerRequest&ColorTable=1&ImageSet=ALLSKY_4BAND&PreferenceColorKey=wise-color-pref&ProductLevel=3A&ProgressKey=groupItemReqKey-wise-1-1-1487263168031&RangeValues=92,-2,92,10,0.1,2,44,25,600,120&Title=Wise band 1&Type=PROCESSOR&UserDesc=Wise band 1&ZoomToHeight=170&ZoomToWidth=393&ZoomType=TO_WIDTH&band=1&coadd_id=0077p393_ab41&in_dec=41.26906&in_ra=10.68479&mission=wise&plotGroupId=triViewImageMetaData-wise-standard&plotId=wise-1\", \"cubeCnt\": 0, \"workingFitsFileStr\": \"${cache-dir}/URL--irsa.ipac.caltech.edu-251880181-ibedatawiseallsky4band_p3am_cdd0000770077p393_ab410077p393_ab41-w1-int-3.fits\", \"bandVisible\": true}, null, null], \"colorTableId\": 1, \"ctxStr\": \"WebPlot-firefly--gabriel--6\", \"threeColor\": false}, \"plotId\": \"wise-1\", \"ipt\": \"3563.5876366432694;2209.0077127706745\", \"table\": {\"highlightedRow\": 0, \"row\": {\"numfrms\": \"208\", \"in_dec\": \"41.26906\", \"qa_status\": \"Prelim\", \"date_obs1\": \"2010-01-10 12:02:27.261\", \"date_obs2\": \"2010-07-19 03:06:27.235\", \"coadd_id\": \"0077p393_ab41\", \"mid_obs\": \"2010-07-17 00:18:32.483\", \"crval2\": \"39.375556000000\", \"crval1\": \"7.741972000000\", \"magzpunc\": \"0.006000\", \"band\": \"1\", \"in_ra\": \"10.68479\", \"ra2\": \"6.741423891405\", \"in_row_id\": \"1\", \"ra1\": \"8.743008767476\", \"dec4\": \"40.153176649367\", \"dec1\": \"38.588781900498\", \"dec2\": \"38.588786133458\", \"dec3\": \"40.153180978244\", \"ra4\": \"8.765694370424\", \"ROWID\": \"0\", \"magzp\": \"20.50000\", \"ra3\": \"6.718749359926\"}}, \"type\": \"POINT\", \"id\": \"abc\"}\n",
      "*************area select\n",
      "Event Received: {\"type\": \"ImagePlotCntlr.PlotImage\", \"payload\": {\"wpRequest\": {\"fileOnServer\": null, \"plotGroupId\": \"groupFromPython\", \"URL\": \"http://web.ipac.caltech.edu/staff/roby/demo/wise-m51-band2.fits\", \"plotId\": \"p4\", \"GroupLocked\": false, \"ColorTable\": \"9\"}, \"viewerId\": \"DEFAULT_FITS_VIEWER_ID\", \"useContextModifications\": true}}\n"
     ]
    }
   ],
   "source": [
    "#fc.add_extension(\"AREA_SELECT\", 'p1', 'crop2', 'second crop', image_src='../../html/images/icons-2014/16x16_Filter.png')\n",
    "\n",
    "#fc.add_extension(\"LINE_SELECT\", 'p1', 'crop2', 'second crop', imageSrc='/hydra/cm/firefly/src/firefly/html/images/icons-2014/16x16_Filter.png')\n",
    "\n",
    "#fc.add_extension(\"POINT\", 'p1', 'crop2', 'second crop', imageSrc='/hydra/cm/firefly/src/firefly/html/images/icons-2014/16x16_Filter.png')\n",
    "fc.add_extension(\"POINT\",  title='crop', tool_tip='second crop', extension_id='abc')"
   ]
  },
  {
   "cell_type": "code",
   "execution_count": null,
   "metadata": {
    "collapsed": false
   },
   "outputs": [],
   "source": [
    "fc.set_zoom('p1', 5)"
   ]
  },
  {
   "cell_type": "code",
   "execution_count": null,
   "metadata": {
    "collapsed": false
   },
   "outputs": [],
   "source": [
    "fc.set_pan('p1', 100, 100)"
   ]
  },
  {
   "cell_type": "code",
   "execution_count": null,
   "metadata": {
    "collapsed": false
   },
   "outputs": [],
   "source": [
    "#pParams= { 'URL' : 'http://web.ipac.caltech.edu/staff/roby/demo/wise-m51-band4.fits','ColorTable' : '9', 'title': 'hello'}\n",
    "status= fc.show_fits(file_on_server=None, plot_id='p2', \n",
    "                    URL='http://web.ipac.caltech.edu/staff/roby/demo/wise-m51-band4.fits',\n",
    "                    ColorTable='9', \n",
    "                    Title='hello')"
   ]
  },
  {
   "cell_type": "code",
   "execution_count": null,
   "metadata": {
    "collapsed": false
   },
   "outputs": [],
   "source": [
    "fc.set_zoom('p2', .5)"
   ]
  },
  {
   "cell_type": "code",
   "execution_count": null,
   "metadata": {
    "collapsed": false
   },
   "outputs": [],
   "source": [
    "fc.set_zoom('p2', 2.0)"
   ]
  },
  {
   "cell_type": "code",
   "execution_count": null,
   "metadata": {
    "collapsed": false
   },
   "outputs": [],
   "source": [
    "file = fc.upload_file('./data/test5.reg')\n",
    "print(file)\n",
    "#fc.overlayRegion(file, 'test5 region', 'regOnP1', ['p1'])\n",
    "fc.overlay_region_layer(file_on_server=file, title='test5 region', region_layer_id='regOnP1')"
   ]
  },
  {
   "cell_type": "code",
   "execution_count": null,
   "metadata": {
    "collapsed": false
   },
   "outputs": [],
   "source": [
    "file= fc.upload_file('./data/c.fits')\n",
    "#params= { 'Title':\"Hello updateTextData\"}\n",
    "\n",
    "status= fc.show_fits(file,'p3', Title=\"Hello updateTextData\")"
   ]
  },
  {
   "cell_type": "code",
   "execution_count": null,
   "metadata": {
    "collapsed": false
   },
   "outputs": [],
   "source": [
    "\n",
    "#inFile= os.getcwd() + '/data/c.reg'\n",
    "#f= open(inFile, 'r+')\n",
    "#contents= f.read()\n",
    "#uf= fc.upload_text_data(contents)\n",
    "#print uf\n",
    "#fc.overlay_region_layer(file_on_server=uf, title='test c region', region_layer_id=\"regOnP3\", plot_id=['p3'])"
   ]
  },
  {
   "cell_type": "code",
   "execution_count": null,
   "metadata": {
    "collapsed": false
   },
   "outputs": [],
   "source": [
    "reg= ['point 211 22 # color=pink  text={region 1/7} point=cross 9', \n",
    "      'point 30 280 # color=red text={region 2/7} point=diamond 15 select=1',\n",
    "      'point 100 180 # color=green text={region 3/7} point=cross 10 select=1',\n",
    "      'point 400 350 # color=purple text={region 4/7} point=x 10 select=1',\n",
    "      'circle 51.6d 31.5d 30i # color=red text={region 5/7}',\n",
    "      'box 51.7d 31.5d 30\" 60\" 0 # color=red text={region 6/7}',\n",
    "      'box 300 200 30 60 0 # color=pink text={region 7/7}'\n",
    "      ]\n",
    "#fc.overlay_region_layer(None, reg, 'My Region Data', 'regOnP2', ['p2'])\n",
    "fc.add_region_data(reg, 'regOnP2', 'My Region Data', ['p2'])"
   ]
  },
  {
   "cell_type": "code",
   "execution_count": null,
   "metadata": {
    "collapsed": false
   },
   "outputs": [],
   "source": [
    "fc.delete_region_layer('regOnP2', 'p2')"
   ]
  },
  {
   "cell_type": "code",
   "execution_count": null,
   "metadata": {
    "collapsed": false
   },
   "outputs": [],
   "source": [
    "regPoly= ['PHYSICAL;polygon 425 225 480 415 450 450 #color=cyan']\n",
    "regLine= ['line 400 130 560 230',\n",
    "          'line 560 230 200 370']\n",
    "#fc.overlay_region_layer(None, regLine, 'My Region Data', 'regOnP2More', 'p2')\n",
    "fc.add_region_data(regLine, 'regOnP2More', 'My Region Data', ['p2'])"
   ]
  },
  {
   "cell_type": "code",
   "execution_count": null,
   "metadata": {
    "collapsed": false
   },
   "outputs": [],
   "source": [
    "fc.add_region_data(regPoly, 'regOnP2More')"
   ]
  },
  {
   "cell_type": "code",
   "execution_count": null,
   "metadata": {
    "collapsed": false
   },
   "outputs": [],
   "source": [
    "delReg= 'physical;line 400 130 560 230'\n",
    "fc.remove_region_data(delReg, 'regOnP2More')"
   ]
  },
  {
   "cell_type": "code",
   "execution_count": null,
   "metadata": {
    "collapsed": false
   },
   "outputs": [],
   "source": [
    "#fc.deleteRegion('regOnP1', 'p1')\n",
    "fc.delete_region_layer('regOnP1')"
   ]
  },
  {
   "cell_type": "code",
   "execution_count": null,
   "metadata": {
    "collapsed": false
   },
   "outputs": [],
   "source": [
    "fc.delete_region_layer('regOnP2More', 'p2')"
   ]
  },
  {
   "cell_type": "code",
   "execution_count": null,
   "metadata": {
    "collapsed": false
   },
   "outputs": [],
   "source": [
    "fc.delete_region_layer('regOnP3')"
   ]
  },
  {
   "cell_type": "code",
   "execution_count": null,
   "metadata": {
    "collapsed": false
   },
   "outputs": [],
   "source": [
    "fc.set_zoom(['p1', 'p2', 'p3'])"
   ]
  },
  {
   "cell_type": "code",
   "execution_count": null,
   "metadata": {
    "collapsed": false
   },
   "outputs": [],
   "source": [
    "#rv = fc.createRangeValuesZScale('Log')\n",
    "fc.set_stretch('p2', 'zscale', 'Log')"
   ]
  },
  {
   "cell_type": "code",
   "execution_count": null,
   "metadata": {
    "collapsed": false
   },
   "outputs": [],
   "source": [
    "#rv= fc.createRangeValuesStandard('Log', 'percent',1,96)\n",
    "fc.set_stretch('p1', 'percent', 'Log', lower_value=1, upper_value=96)"
   ]
  },
  {
   "cell_type": "code",
   "execution_count": null,
   "metadata": {
    "collapsed": false
   },
   "outputs": [],
   "source": [
    "ft = fc.upload_file('./data/sample.tbl')\n",
    "print(ft)\n",
    "fc.show_table(ft)"
   ]
  },
  {
   "cell_type": "code",
   "execution_count": null,
   "metadata": {
    "collapsed": false
   },
   "outputs": [],
   "source": [
    "for i in range(len(reg)):\n",
    "    print(\"region=%s\" % reg[i])"
   ]
  },
  {
   "cell_type": "code",
   "execution_count": null,
   "metadata": {
    "collapsed": false
   },
   "outputs": [],
   "source": [
    "import os\n",
    "imageFileName = os.path.join(os.path.expanduser(\"~roby\"), \"LSST\", \"afw-LSST\", \"tests\", \"data\", \"HSC-0908120-056-small.fits\")"
   ]
  },
  {
   "cell_type": "code",
   "execution_count": null,
   "metadata": {
    "collapsed": false
   },
   "outputs": [],
   "source": [
    "print(imageFileName)"
   ]
  }
 ],
 "metadata": {
  "anaconda-cloud": {},
  "kernelspec": {
   "display_name": "Python 2",
   "language": "python",
   "name": "python2"
  },
  "language_info": {
   "codemirror_mode": {
    "name": "ipython",
    "version": 2
   },
   "file_extension": ".py",
   "mimetype": "text/x-python",
   "name": "python",
   "nbconvert_exporter": "python",
   "pygments_lexer": "ipython2",
   "version": "2.7.11"
  }
 },
 "nbformat": 4,
 "nbformat_minor": 0
}
