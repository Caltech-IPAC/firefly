{
 "cells": [
  {
   "cell_type": "code",
   "execution_count": null,
   "metadata": {
    "collapsed": false
   },
   "outputs": [],
   "source": [
    "import os\n",
    "\n",
    "from FireflyClient import FireflyClient\n",
    "import json\n",
    "\n",
    "host='localhost:8080'\n",
    "\n",
    "def myCallback(event):\n",
    "    print \"Event Received: \"+json.dumps(event['data']);\n",
    "    if 'type' in event['data']:\n",
    "        if event['data']['type']=='AREA_SELECT':\n",
    "            print '*************area select'\n",
    "            #pParams= { 'URL' : 'http://web.ipac.caltech.edu/staff/roby/demo/wise-m51-band2.fits','ColorTable' : '9'}\n",
    "            status= fc.show_fits(fileOnServer=None, plotId='p4', \n",
    "                                URL='http://web.ipac.caltech.edu/staff/roby/demo/wise-m51-band2.fits',\n",
    "                                ColorTable='9')         \n",
    "   \n",
    "        \n",
    "\n",
    "print 'HELLO HELLO HELLO'\n",
    "fc= FireflyClient(host,'tt')\n",
    "fc.add_listener(myCallback)\n",
    "#raw_input(\"add fits.   Press Enter to continue...\")"
   ]
  },
  {
   "cell_type": "code",
   "execution_count": null,
   "metadata": {
    "collapsed": false
   },
   "outputs": [],
   "source": [
    "fc.launch_browser()"
   ]
  },
  {
   "cell_type": "code",
   "execution_count": null,
   "metadata": {
    "collapsed": false
   },
   "outputs": [],
   "source": [
    "#file= fc.uploadFile('./data/c.fits')\n",
    "file= fc.upload_file('./data/wise-1b-1.fits')\n",
    "#file= fc.uploadFile('../data/wise-m31-3a-1.fits')\n",
    "\n",
    "status= fc.show_fits(file,'p1',Title=\"Hello\")"
   ]
  },
  {
   "cell_type": "code",
   "execution_count": null,
   "metadata": {
    "collapsed": false
   },
   "outputs": [],
   "source": [
    "fc.add_extension(\"AREA_SELECT\", 'p1', 'crop2', 'second crop', image_src='/hydra/cm/firefly/src/firefly/html/images/icons-2014/16x16_Filter.png')\n",
    "\n",
    "#fc.addExtension(\"LINE_SELECT\", 'p1', 'crop2', 'second crop', imageSrc='/hydra/cm/firefly/src/firefly/html/images/icons-2014/16x16_Filter.png')\n",
    "\n",
    "#fc.addExtension(\"POINT\", 'p1', 'crop2', 'second crop', imageSrc='/hydra/cm/firefly/src/firefly/html/images/icons-2014/16x16_Filter.png')"
   ]
  },
  {
   "cell_type": "code",
   "execution_count": null,
   "metadata": {
    "collapsed": false
   },
   "outputs": [],
   "source": [
    "fc.set_zoom('p1', 5)"
   ]
  },
  {
   "cell_type": "code",
   "execution_count": null,
   "metadata": {
    "collapsed": false
   },
   "outputs": [],
   "source": [
    "fc.set_pan('p1', 100, 100)"
   ]
  },
  {
   "cell_type": "code",
   "execution_count": null,
   "metadata": {
    "collapsed": true
   },
   "outputs": [],
   "source": [
    "#fc.addMask(\"m1\",5,1,\"#FF00FF\",'p1', \"maskStuff\")"
   ]
  },
  {
   "cell_type": "code",
   "execution_count": null,
   "metadata": {
    "collapsed": true
   },
   "outputs": [],
   "source": [
    "#fc.removeMask(\"m1\")"
   ]
  },
  {
   "cell_type": "code",
   "execution_count": null,
   "metadata": {
    "collapsed": false
   },
   "outputs": [],
   "source": [
    "#pParams= { 'URL' : 'http://web.ipac.caltech.edu/staff/roby/demo/wise-m51-band4.fits','ColorTable' : '9', 'title': 'hello'}\n",
    "status= fc.show_fits(file_on_server=None, plot_id='p2', \n",
    "                    URL='http://web.ipac.caltech.edu/staff/roby/demo/wise-m51-band4.fits',\n",
    "                    ColorTable='9', \n",
    "                    title='hello')"
   ]
  },
  {
   "cell_type": "code",
   "execution_count": null,
   "metadata": {
    "collapsed": false
   },
   "outputs": [],
   "source": [
    "fc.set_zoom('p2', .5)"
   ]
  },
  {
   "cell_type": "code",
   "execution_count": null,
   "metadata": {
    "collapsed": false
   },
   "outputs": [],
   "source": [
    "fc.set_zoom('p2', 2.0)"
   ]
  },
  {
   "cell_type": "code",
   "execution_count": null,
   "metadata": {
    "collapsed": false
   },
   "outputs": [],
   "source": [
    "file= fc.upload_file('./data/c.fits')\n",
    "#params= { 'Title':\"Hello updateTextData\"}\n",
    "\n",
    "status= fc.show_fits(file,'p3', Title=\"Hello updateTextData\")"
   ]
  },
  {
   "cell_type": "code",
   "execution_count": null,
   "metadata": {
    "collapsed": false
   },
   "outputs": [],
   "source": [
    "inFile= os.getcwd() + '/data/c.reg'\n",
    "f= open(inFile, 'r+')\n",
    "contents= f.read()\n",
    "uf= fc.upload_text_data(contents)\n",
    "print uf\n",
    "fc.overlay_region_layer(file_on_server=uf, title='test c region', region_layer_id=\"regOnP3\", plot_id=['p3'])"
   ]
  },
  {
   "cell_type": "code",
   "execution_count": null,
   "metadata": {
    "collapsed": false
   },
   "outputs": [],
   "source": [
    "file = fc.upload_file('./data/test5.reg')\n",
    "print file\n",
    "#fc.overlayRegion(file, 'test5 region', 'regOnP1', ['p1'])\n",
    "fc.overlay_region_layer(file_on_server=file, title='test5 region', region_layer_id='regOnP1')"
   ]
  },
  {
   "cell_type": "code",
   "execution_count": null,
   "metadata": {
    "collapsed": false
   },
   "outputs": [],
   "source": [
    "reg= ['point 211 22 # color=pink  text={region 1/7} point=cross 9', \n",
    "      'point 30 280 # color=red text={region 2/7} point=diamond 15 select=1',\n",
    "      'point 100 180 # color=green text={region 3/7} point=cross 10 select=1',\n",
    "      'point 400 350 # color=purple text={region 4/7} point=x 10 select=1',\n",
    "      'circle 51.6d 31.5d 30i # color=red text={region 5/7}',\n",
    "      'box 51.7d 31.5d 30\" 60\" 0 # color=red text={region 6/7}',\n",
    "      'box 300 200 30 60 0 # color=pink text={region 7/7}'\n",
    "      ]\n",
    "fc.overlay_region_layer(None, reg, 'My Region Data', 'regOnP2', ['p2'])"
   ]
  },
  {
   "cell_type": "code",
   "execution_count": null,
   "metadata": {
    "collapsed": false
   },
   "outputs": [],
   "source": [
    "fc.delete_region_layer('regOnP2', 'p2')"
   ]
  },
  {
   "cell_type": "code",
   "execution_count": null,
   "metadata": {
    "collapsed": false
   },
   "outputs": [],
   "source": [
    "regPoly= ['PHYSICAL;polygon 425 225 480 415 450 450 #color=cyan']\n",
    "regLine= ['line 400 130 560 230',\n",
    "          'line 560 230 200 370']\n",
    "fc.overlay_region_layer(None, regLine, 'My Region Data', 'regOnP2More', 'p2')"
   ]
  },
  {
   "cell_type": "code",
   "execution_count": null,
   "metadata": {
    "collapsed": false
   },
   "outputs": [],
   "source": [
    "fc.add_region_data(regPoly, 'regOnP2More')"
   ]
  },
  {
   "cell_type": "code",
   "execution_count": null,
   "metadata": {
    "collapsed": false
   },
   "outputs": [],
   "source": [
    "delReg= 'physical;line 400 130 560 230'\n",
    "fc.remove_region_data(delReg, 'regOnP2More')"
   ]
  },
  {
   "cell_type": "code",
   "execution_count": null,
   "metadata": {
    "collapsed": false
   },
   "outputs": [],
   "source": [
    "#fc.deleteRegion('regOnP1', 'p1')\n",
    "fc.delete_region_layer('regOnP1')"
   ]
  },
  {
   "cell_type": "code",
   "execution_count": null,
   "metadata": {
    "collapsed": false
   },
   "outputs": [],
   "source": [
    "fc.delete_region_layer('regOnP2More', 'p2')"
   ]
  },
  {
   "cell_type": "code",
   "execution_count": null,
   "metadata": {
    "collapsed": false
   },
   "outputs": [],
   "source": [
    "fc.delete_region_layer('regOnP3')"
   ]
  },
  {
   "cell_type": "code",
   "execution_count": null,
   "metadata": {
    "collapsed": false
   },
   "outputs": [],
   "source": [
    "fc.set_zoom(['p1', 'p2', 'p3'])"
   ]
  },
  {
   "cell_type": "code",
   "execution_count": null,
   "metadata": {
    "collapsed": false
   },
   "outputs": [],
   "source": [
    "#rv = fc.createRangeValuesZScale('Log')\n",
    "fc.set_stretch('p2', 'zscale', 'Log')"
   ]
  },
  {
   "cell_type": "code",
   "execution_count": null,
   "metadata": {
    "collapsed": false
   },
   "outputs": [],
   "source": [
    "#rv= fc.createRangeValuesStandard('Log', 'percent',1,96)\n",
    "fc.set_stretch('p1', 'percent', 'Log', lower_value=1, upper_value=96)"
   ]
  },
  {
   "cell_type": "code",
   "execution_count": null,
   "metadata": {
    "collapsed": false
   },
   "outputs": [],
   "source": [
    "ft = fc.upload_file('./data/sample.tbl')\n",
    "print ft\n",
    "fc.show_table(ft)"
   ]
  },
  {
   "cell_type": "code",
   "execution_count": null,
   "metadata": {
    "collapsed": true
   },
   "outputs": [],
   "source": [
    "for i in range(len(reg)):\n",
    "    print \"region=%s\" % reg[i]"
   ]
  },
  {
   "cell_type": "code",
   "execution_count": null,
   "metadata": {
    "collapsed": true
   },
   "outputs": [],
   "source": [
    "import os\n",
    "imageFileName = os.path.join(os.path.expanduser(\"~roby\"), \"LSST\", \"afw-LSST\", \"tests\", \"data\", \"HSC-0908120-056-small.fits\")"
   ]
  },
  {
   "cell_type": "code",
   "execution_count": null,
   "metadata": {
    "collapsed": true
   },
   "outputs": [],
   "source": [
    "print imageFileName"
   ]
  },
  {
   "cell_type": "code",
   "execution_count": null,
   "metadata": {
    "collapsed": true
   },
   "outputs": [],
   "source": []
  }
 ],
 "metadata": {
  "anaconda-cloud": {},
  "kernelspec": {
   "display_name": "Python [Root]",
   "language": "python",
   "name": "Python [Root]"
  },
  "language_info": {
   "codemirror_mode": {
    "name": "ipython",
    "version": 2
   },
   "file_extension": ".py",
   "mimetype": "text/x-python",
   "name": "python",
   "nbconvert_exporter": "python",
   "pygments_lexer": "ipython2",
   "version": "2.7.12"
  }
 },
 "nbformat": 4,
 "nbformat_minor": 0
}
