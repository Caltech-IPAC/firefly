{
 "cells": [
  {
   "cell_type": "code",
   "execution_count": 16,
   "metadata": {
    "collapsed": false,
    "scrolled": true
   },
   "outputs": [
    {
     "name": "stdout",
     "output_type": "stream",
     "text": [
      "websocket url:ws://localhost:8080/fftools/sticky/firefly/events?channelID=testChannel9\n"
     ]
    }
   ],
   "source": [
    "import sys\n",
    "from IPython.display import IFrame\n",
    "sys.path.append('../python/display/')\n",
    "from FireflyClient import *\n",
    "\n",
    "fc= FireflyClient('localhost:8080','testChannel9')"
   ]
  },
  {
   "cell_type": "code",
   "execution_count": 12,
   "metadata": {
    "collapsed": false,
    "scrolled": false
   },
   "outputs": [
    {
     "data": {
      "text/plain": [
       "'testChannel9'"
      ]
     },
     "execution_count": 12,
     "metadata": {},
     "output_type": "execute_result"
    }
   ],
   "source": [
    "#IFrame(fc.getFireflyUrl(), 1100, 600)\n",
    "fc.launchBrowser()"
   ]
  },
  {
   "cell_type": "code",
   "execution_count": 37,
   "metadata": {
    "collapsed": false,
    "scrolled": false
   },
   "outputs": [
    {
     "data": {
      "text/plain": [
       "{u'file': u'${cache-dir}/upload_1852991356297800425.fits', u'success': True}"
      ]
     },
     "execution_count": 37,
     "metadata": {},
     "output_type": "execute_result"
    }
   ],
   "source": [
    "mainFile= fc.uploadFile('data/40044841.40044841-8.IRAC.3.mosaic.fits')\n",
    "pParams= {'ColorTable' : '9', 'title': 'hello'}\n",
    "fc.showFits(mainFile,'main', pParams)"
   ]
  },
  {
   "cell_type": "code",
   "execution_count": 8,
   "metadata": {
    "collapsed": false,
    "scrolled": false
   },
   "outputs": [
    {
     "data": {
      "text/plain": [
       "{u'success': True}"
      ]
     },
     "execution_count": 8,
     "metadata": {},
     "output_type": "execute_result"
    }
   ],
   "source": [
    "reg= ['line 0 216 440 216  # color=orange select=0',\n",
    "      'line 220 0 220 440 # color=orange select=0'\n",
    "      ]\n",
    "fc.overlayRegionData(reg,'reg3', 'Quadrants', ['main'])"
   ]
  },
  {
   "cell_type": "code",
   "execution_count": 38,
   "metadata": {
    "collapsed": false,
    "scrolled": true
   },
   "outputs": [],
   "source": [
    "#status= fc.addExtension('POINT','Show Corner','main','MyOpExtension')\n",
    "status= fc.addExtension('AREA_SELECT','Detect Sources','main','MyOpExtensionAREA2')\n",
    "status= fc.addExtension('AREA_SELECT','Compare to Template','main','MyOpExtensionARE3')\n",
    "#status= fc.addExtension('AREA_SELECT','Other','main','MyOpExtensionARE4')"
   ]
  },
  {
   "cell_type": "code",
   "execution_count": 10,
   "metadata": {
    "collapsed": false,
    "scrolled": true
   },
   "outputs": [
    {
     "name": "stdout",
     "output_type": "stream",
     "text": [
      "adding callback\n",
      "key=00\n",
      "key=01\n",
      "key=10\n",
      "key=11\n"
     ]
    }
   ],
   "source": [
    "corners= {}\n",
    "corners['00']= fc.uploadFile('data/wise-00.fits')\n",
    "corners['01']= fc.uploadFile('data/wise-01.fits')\n",
    "corners['10']= fc.uploadFile('data/wise-10.fits')\n",
    "corners['11']= fc.uploadFile('data/wise-11.fits')\n",
    "\n",
    "\n",
    "def myCallback(event):\n",
    "    # print event\n",
    "    #print \"here i am \"\n",
    "    #print \"Event Received: \"+json.dumps(event['data']);\n",
    "    if 'type' in event['data']:\n",
    "        data= event['data']\n",
    "        if data['type']=='POINT':\n",
    "            ipt= data['ipt'].split(\";\")\n",
    "            x= float(ipt[0])\n",
    "            y= float(ipt[1])\n",
    "            idx1= '1' if y<220 else '0';\n",
    "            idx2= '0' if x<216 else '1';\n",
    "            key= idx1+ idx2\n",
    "            print 'key='+key\n",
    "            fc.showFits(corners[key],'sub')\n",
    "\n",
    "print 'adding callback'\n",
    "fc.addListener(myCallback)            "
   ]
  },
  {
   "cell_type": "code",
   "execution_count": null,
   "metadata": {
    "collapsed": true,
    "scrolled": true
   },
   "outputs": [],
   "source": []
  }
 ],
 "metadata": {
  "kernelspec": {
   "display_name": "Python 2",
   "language": "python",
   "name": "python2"
  },
  "language_info": {
   "codemirror_mode": {
    "name": "ipython",
    "version": 2
   },
   "file_extension": ".py",
   "mimetype": "text/x-python",
   "name": "python",
   "nbconvert_exporter": "python",
   "pygments_lexer": "ipython2",
   "version": "2.7.10"
  }
 },
 "nbformat": 4,
 "nbformat_minor": 0
}
