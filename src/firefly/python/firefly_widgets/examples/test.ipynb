{
 "cells": [
  {
   "cell_type": "code",
   "execution_count": null,
   "metadata": {
    "collapsed": false
   },
   "outputs": [],
   "source": [
    "%%html\n",
    "<script src=\"http://localhost:8080/firefly/firefly_loader.js\"></script>"
   ]
  },
  {
   "cell_type": "code",
   "execution_count": null,
   "metadata": {
    "collapsed": false
   },
   "outputs": [],
   "source": [
    "from IPython.display import HTML, Javascript, display\n",
    "import ipywidgets as widgets\n",
    "from traitlets import *\n",
    "\n",
    "class ImageViewer(widgets.DOMWidget):\n",
    "    _view_name = Unicode('ImageViewer').tag(sync=True)\n",
    "    _view_module = Unicode('firefly_widgets').tag(sync=True)\n",
    "    GridOn = Bool(True).tag(sync=True)\n",
    "    SurveyKey = Unicode('k').tag(sync=True)\n",
    "    \n",
    "class TableViewer(widgets.DOMWidget):\n",
    "    _view_name = Unicode('TableViewer').tag(sync=True)\n",
    "    _view_module = Unicode('firefly_widgets').tag(sync=True)\n",
    "    pageSize = Int(50).tag(sync=True)\n",
    "    filters = Unicode().tag(sync=True)\n",
    "    dataUrl = Unicode().tag(sync=True)"
   ]
  },
  {
   "cell_type": "code",
   "execution_count": null,
   "metadata": {
    "collapsed": false
   },
   "outputs": [],
   "source": [
    "%%javascript\n",
    "define('firefly_widgets', [\"jupyter-js-widgets\"], function(widgets) {\n",
    "    var seq = 1;\n",
    "\n",
    "    var ImageViewer = widgets.DOMWidgetView.extend({\n",
    "        // Render the view.\n",
    "        render: function() {\n",
    "            this.req = {\n",
    "                plotId: 'xxq',\n",
    "                Type      : 'SERVICE',\n",
    "                Service   : 'TWOMASS',\n",
    "                Title     : '2mass from service',\n",
    "                GridOn     : true,\n",
    "                SurveyKey  : 'k',\n",
    "                WorldPt    : '10.68479;41.26906;EQ_J2000',\n",
    "                SizeInDeg  : '.12',\n",
    "                AllowImageSelection : true\n",
    "            };\n",
    "\n",
    "            this.el.id = `imageViewer-${seq++}`;\n",
    "            this.model.on('change:GridOn change:SurveyKey', this.redraw, this);\n",
    "            this.redraw = this.redraw.bind(this);\n",
    "            setTimeout(this.redraw, 0);\n",
    "         },\n",
    "        \n",
    "        redraw: function() {\n",
    "            this.req.GridOn = this.model.get('GridOn');\n",
    "            this.req.SurveyKey = this.model.get('SurveyKey');\n",
    "            firefly.showImage(this.el.id, this.req);\n",
    "        },\n",
    "    });\n",
    "\n",
    "    var TableViewer = widgets.DOMWidgetView.extend({\n",
    "        // Render the view.\n",
    "        render: function() {\n",
    "            this.req = firefly.util.table.makeIrsaCatalogRequest('wise_allwise_p3as_psd', 'WISE', 'wise_allwise_p3as_psd',\n",
    "                    {   position: '10.68479;41.26906;EQ_J2000',\n",
    "                        SearchMethod: 'Cone',\n",
    "                        radius: 300\n",
    "                    });\n",
    "\n",
    "            this.el.id = `TableViewer-${seq++}`;\n",
    "            this.model.on('change:pageSize change:filters', this.redraw, this);\n",
    "            this.redraw = this.redraw.bind(this);\n",
    "            this.tableUpdated = this.tableUpdated.bind(this);\n",
    "            this.removeListner = firefly.util.addActionListener(['table.new','table.sort','tableUi.update'], this.tableUpdated);\n",
    "            setTimeout(this.redraw, 0);\n",
    "         },\n",
    "        \n",
    "        redraw: function() {\n",
    "            this.req.pageSize = this.model.get('pageSize');\n",
    "            this.req.filters = this.model.get('filters');\n",
    "            firefly.showTable(this.el.id, this.req);\n",
    "        },\n",
    "        \n",
    "        tableUpdated: function(action, state) {\n",
    "            var dataUrl = firefly.util.table.getTableSourceUrl(\n",
    "                            firefly.util.table.getTableUiByTblId(this.req.tbl_id));\n",
    "            this.model.set('dataUrl', dataUrl);\n",
    "            if (action.payload.tbl_id === this.req.tbl_id) {\n",
    "                var o_filters = this.model.get('filters');\n",
    "                var n_filters = action.payload.request.filters;\n",
    "                if (o_filters != n_filters) {\n",
    "//                     this.model.set('filters', n_filters);\n",
    "                }\n",
    "            }\n",
    "            this.touch();\n",
    "        },\n",
    "    });\n",
    "\n",
    "    return {\n",
    "        ImageViewer: ImageViewer,\n",
    "        TableViewer: TableViewer\n",
    "    };\n",
    "\n",
    "\n",
    "});"
   ]
  },
  {
   "cell_type": "code",
   "execution_count": null,
   "metadata": {
    "collapsed": false
   },
   "outputs": [],
   "source": [
    "iv = ImageViewer(width='400px', height='400px', GridOn=False)\n",
    "tv = TableViewer(width='600px', height='400px')"
   ]
  },
  {
   "cell_type": "code",
   "execution_count": null,
   "metadata": {
    "collapsed": false
   },
   "outputs": [],
   "source": [
    "iv"
   ]
  },
  {
   "cell_type": "code",
   "execution_count": null,
   "metadata": {
    "collapsed": false
   },
   "outputs": [],
   "source": [
    "tv"
   ]
  },
  {
   "cell_type": "code",
   "execution_count": null,
   "metadata": {
    "collapsed": true
   },
   "outputs": [],
   "source": [
    "iv.GridOn = True\n",
    "tv.pageSize=15\n",
    "tv.filters='ra < 10.7'"
   ]
  },
  {
   "cell_type": "code",
   "execution_count": null,
   "metadata": {
    "collapsed": false
   },
   "outputs": [],
   "source": [
    "tv.dataUrl"
   ]
  },
  {
   "cell_type": "code",
   "execution_count": null,
   "metadata": {
    "collapsed": false
   },
   "outputs": [],
   "source": [
    "tv.filters"
   ]
  },
  {
   "cell_type": "code",
   "execution_count": null,
   "metadata": {
    "collapsed": true
   },
   "outputs": [],
   "source": [
    "from astropy.table import Table\n",
    "from urllib.request import urlopen"
   ]
  },
  {
   "cell_type": "code",
   "execution_count": null,
   "metadata": {
    "collapsed": false
   },
   "outputs": [],
   "source": [
    "tab = Table.read(urlopen(tv.dataUrl).read().decode(\"utf-8\"), format='ipac')"
   ]
  },
  {
   "cell_type": "code",
   "execution_count": null,
   "metadata": {
    "collapsed": false
   },
   "outputs": [],
   "source": [
    "tab"
   ]
  },
  {
   "cell_type": "code",
   "execution_count": null,
   "metadata": {
    "collapsed": true
   },
   "outputs": [],
   "source": []
  }
 ],
 "metadata": {
  "anaconda-cloud": {},
  "kernelspec": {
   "display_name": "Python [Root]",
   "language": "python",
   "name": "Python [Root]"
  },
  "language_info": {
   "codemirror_mode": {
    "name": "ipython",
    "version": 3
   },
   "file_extension": ".py",
   "mimetype": "text/x-python",
   "name": "python",
   "nbconvert_exporter": "python",
   "pygments_lexer": "ipython3",
   "version": "3.5.2"
  }
 },
 "nbformat": 4,
 "nbformat_minor": 0
}
